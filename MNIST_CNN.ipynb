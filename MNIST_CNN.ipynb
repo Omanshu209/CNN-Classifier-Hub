{
  "nbformat": 4,
  "nbformat_minor": 0,
  "metadata": {
    "colab": {
      "provenance": [],
      "gpuType": "T4"
    },
    "kernelspec": {
      "name": "python3",
      "display_name": "Python 3"
    },
    "language_info": {
      "name": "python"
    },
    "accelerator": "GPU"
  },
  "cells": [
    {
      "cell_type": "markdown",
      "source": [
        "#**MNIST CNN Model!**"
      ],
      "metadata": {
        "id": "bAv8Z280qj9r"
      }
    },
    {
      "cell_type": "code",
      "execution_count": 54,
      "metadata": {
        "id": "kCLXGLlH1Q6X"
      },
      "outputs": [],
      "source": [
        "import torch\n",
        "import torch.nn as nn\n",
        "import torch.nn.functional as F\n",
        "from torch.utils.data import DataLoader\n",
        "from torchvision import datasets, transforms\n",
        "from torchvision.utils import make_grid\n",
        "\n",
        "import pandas as pd\n",
        "import numpy as np\n",
        "import matplotlib.pyplot as plt"
      ]
    },
    {
      "cell_type": "code",
      "source": [
        "%matplotlib inline"
      ],
      "metadata": {
        "id": "OxAyQyNb1_40"
      },
      "execution_count": 55,
      "outputs": []
    },
    {
      "cell_type": "markdown",
      "source": [
        "## **Data Collection & Processing**"
      ],
      "metadata": {
        "id": "bVC8XnTToeCi"
      }
    },
    {
      "cell_type": "code",
      "source": [
        "transform = transforms.ToTensor()"
      ],
      "metadata": {
        "id": "vkbmtAY52cXH"
      },
      "execution_count": 56,
      "outputs": []
    },
    {
      "cell_type": "code",
      "source": [
        "train_data = datasets.MNIST(root = \"data\", train = True, transform = transform, download = True)\n",
        "test_data = datasets.MNIST(root = \"data\", train = False, transform = transform, download = True)"
      ],
      "metadata": {
        "id": "6kCvTjSN20MR"
      },
      "execution_count": 57,
      "outputs": []
    },
    {
      "cell_type": "code",
      "source": [
        "train_loader = DataLoader(train_data, batch_size = 10, shuffle = True)\n",
        "test_loader = DataLoader(test_data, batch_size = 10, shuffle = True)"
      ],
      "metadata": {
        "id": "IFH_j1LdAN-C"
      },
      "execution_count": 58,
      "outputs": []
    },
    {
      "cell_type": "markdown",
      "source": [
        "## **Creating the CNN Model!**"
      ],
      "metadata": {
        "id": "PVuqQhyyo7A1"
      }
    },
    {
      "cell_type": "code",
      "source": [
        "class CNN(nn.Module):\n",
        "\n",
        "  def __init__(self):\n",
        "    super().__init__()\n",
        "\n",
        "    self.conv1 = nn.Conv2d(1, 6, 3, 1)\n",
        "    self.conv2 = nn.Conv2d(6, 16, 3, 1)\n",
        "\n",
        "    self.fc1 = nn.Linear(5 * 5 * 16, 120)\n",
        "    self.fc2 = nn.Linear(120, 84)\n",
        "    self.fc3 = nn.Linear(84, 10)\n",
        "\n",
        "  def feedForward(self, X):\n",
        "    X = F.relu(self.conv1(X))\n",
        "    X = F.max_pool2d(X, 2, 2)\n",
        "    X = F.relu(self.conv2(X))\n",
        "    X = F.max_pool2d(X, 2, 2)\n",
        "\n",
        "    X = X.view(-1, 16 * 5 * 5)\n",
        "\n",
        "    X = F.relu(self.fc1(X))\n",
        "    X = F.relu(self.fc2(X))\n",
        "    X = self.fc3(X)\n",
        "\n",
        "    return F.log_softmax(X, dim = 1)"
      ],
      "metadata": {
        "id": "aKzD9B8oHU-V"
      },
      "execution_count": 59,
      "outputs": []
    },
    {
      "cell_type": "code",
      "source": [
        "torch.manual_seed(17)"
      ],
      "metadata": {
        "colab": {
          "base_uri": "https://localhost:8080/"
        },
        "id": "VUsFGIc4PWCB",
        "outputId": "1696a63f-569a-4407-f365-7c97ffcc30ba"
      },
      "execution_count": 60,
      "outputs": [
        {
          "output_type": "execute_result",
          "data": {
            "text/plain": [
              "<torch._C.Generator at 0x7fa2cc1bfcf0>"
            ]
          },
          "metadata": {},
          "execution_count": 60
        }
      ]
    },
    {
      "cell_type": "code",
      "source": [
        "model = CNN()"
      ],
      "metadata": {
        "id": "cVo-tey4PnrR"
      },
      "execution_count": 61,
      "outputs": []
    },
    {
      "cell_type": "code",
      "source": [
        "model"
      ],
      "metadata": {
        "colab": {
          "base_uri": "https://localhost:8080/"
        },
        "id": "7inMX4o4P-1S",
        "outputId": "01ca08e5-2c83-4d22-86d2-783ed95a078b"
      },
      "execution_count": 62,
      "outputs": [
        {
          "output_type": "execute_result",
          "data": {
            "text/plain": [
              "CNN(\n",
              "  (conv1): Conv2d(1, 6, kernel_size=(3, 3), stride=(1, 1))\n",
              "  (conv2): Conv2d(6, 16, kernel_size=(3, 3), stride=(1, 1))\n",
              "  (fc1): Linear(in_features=400, out_features=120, bias=True)\n",
              "  (fc2): Linear(in_features=120, out_features=84, bias=True)\n",
              "  (fc3): Linear(in_features=84, out_features=10, bias=True)\n",
              ")"
            ]
          },
          "metadata": {},
          "execution_count": 62
        }
      ]
    },
    {
      "cell_type": "markdown",
      "source": [
        "## **Training the Model**"
      ],
      "metadata": {
        "id": "baG2bcinpjhY"
      }
    },
    {
      "cell_type": "code",
      "source": [
        "criterion = nn.CrossEntropyLoss()"
      ],
      "metadata": {
        "id": "pPtK3l0QQLie"
      },
      "execution_count": 63,
      "outputs": []
    },
    {
      "cell_type": "code",
      "source": [
        "optimizer = torch.optim.Adam(model.parameters(), lr = 0.001)"
      ],
      "metadata": {
        "id": "_A8FG3ndQRtf"
      },
      "execution_count": 64,
      "outputs": []
    },
    {
      "cell_type": "code",
      "source": [
        "import time\n",
        "\n",
        "start_time = time.time()\n",
        "\n",
        "# Variables To Track.......\n",
        "epochs : int = 5\n",
        "train_losses : list = []\n",
        "test_losses : list = []\n",
        "train_correct : list = []\n",
        "test_correct : list = []\n",
        "\n",
        "i : int = 1\n",
        "while i <= epochs:\n",
        "  train_corr : int = 0\n",
        "  test_corr : int = 0\n",
        "\n",
        "  #Training\n",
        "  for b, (X_train, y_train) in enumerate(train_loader):\n",
        "    b += 1\n",
        "    y_pred = model.feedForward(X_train)\n",
        "    loss = criterion(y_pred, y_train)\n",
        "\n",
        "    predicted = torch.max(y_pred.data, 1)[1]\n",
        "    batch_corr : int = (predicted == y_train).sum()\n",
        "    train_corr += batch_corr\n",
        "\n",
        "    optimizer.zero_grad()\n",
        "    loss.backward()\n",
        "    optimizer.step()\n",
        "\n",
        "    if (b + 1) % 100 == 0:\n",
        "      print(f\"Epoch : {i}, Batch : {b + 1}, Loss : {loss.item()}\")\n",
        "\n",
        "  train_losses.append(loss)\n",
        "  train_correct.append(train_corr)\n",
        "\n",
        "  with torch.no_grad():\n",
        "    for b, (X_test, y_test) in enumerate(test_loader):\n",
        "      y_val = model.feedForward(X_test)\n",
        "      predicted = torch.max(y_val.data, 1)[1]\n",
        "      test_corr += (predicted == y_test).sum()\n",
        "\n",
        "  loss = criterion(y_val, y_test)\n",
        "  test_losses.append(loss)\n",
        "  test_correct.append(test_corr)\n",
        "\n",
        "  i += 1\n",
        "\n",
        "current_time = time.time()\n",
        "print(f\"Training took {current_time - start_time} seconds!\")"
      ],
      "metadata": {
        "colab": {
          "base_uri": "https://localhost:8080/"
        },
        "id": "odsCYsNVRihD",
        "outputId": "57585ba5-07e4-49e8-d38f-31b12cfc94be"
      },
      "execution_count": 65,
      "outputs": [
        {
          "output_type": "stream",
          "name": "stdout",
          "text": [
            "Epoch : 1, Batch : 100, Loss : 0.9118455052375793\n",
            "Epoch : 1, Batch : 200, Loss : 0.8940961956977844\n",
            "Epoch : 1, Batch : 300, Loss : 0.3444124460220337\n",
            "Epoch : 1, Batch : 400, Loss : 0.3172015845775604\n",
            "Epoch : 1, Batch : 500, Loss : 0.07117006182670593\n",
            "Epoch : 1, Batch : 600, Loss : 0.031465739011764526\n",
            "Epoch : 1, Batch : 700, Loss : 0.40989232063293457\n",
            "Epoch : 1, Batch : 800, Loss : 0.19670596718788147\n",
            "Epoch : 1, Batch : 900, Loss : 0.317547082901001\n",
            "Epoch : 1, Batch : 1000, Loss : 0.41231268644332886\n",
            "Epoch : 1, Batch : 1100, Loss : 0.2926010489463806\n",
            "Epoch : 1, Batch : 1200, Loss : 0.03347271680831909\n",
            "Epoch : 1, Batch : 1300, Loss : 0.22453586757183075\n",
            "Epoch : 1, Batch : 1400, Loss : 0.015044452622532845\n",
            "Epoch : 1, Batch : 1500, Loss : 0.014532877132296562\n",
            "Epoch : 1, Batch : 1600, Loss : 0.24592642486095428\n",
            "Epoch : 1, Batch : 1700, Loss : 0.2576756477355957\n",
            "Epoch : 1, Batch : 1800, Loss : 0.040100596845149994\n",
            "Epoch : 1, Batch : 1900, Loss : 0.2341555655002594\n",
            "Epoch : 1, Batch : 2000, Loss : 0.1975868195295334\n",
            "Epoch : 1, Batch : 2100, Loss : 0.21446490287780762\n",
            "Epoch : 1, Batch : 2200, Loss : 0.16262520849704742\n",
            "Epoch : 1, Batch : 2300, Loss : 0.05080671235918999\n",
            "Epoch : 1, Batch : 2400, Loss : 0.025736117735505104\n",
            "Epoch : 1, Batch : 2500, Loss : 0.08207757771015167\n",
            "Epoch : 1, Batch : 2600, Loss : 0.033653922379016876\n",
            "Epoch : 1, Batch : 2700, Loss : 0.204965278506279\n",
            "Epoch : 1, Batch : 2800, Loss : 0.0705614686012268\n",
            "Epoch : 1, Batch : 2900, Loss : 0.036636099219322205\n",
            "Epoch : 1, Batch : 3000, Loss : 0.03836677223443985\n",
            "Epoch : 1, Batch : 3100, Loss : 0.0034214328043162823\n",
            "Epoch : 1, Batch : 3200, Loss : 0.2516576647758484\n",
            "Epoch : 1, Batch : 3300, Loss : 0.06436695158481598\n",
            "Epoch : 1, Batch : 3400, Loss : 0.2539328932762146\n",
            "Epoch : 1, Batch : 3500, Loss : 0.005599477794021368\n",
            "Epoch : 1, Batch : 3600, Loss : 0.4511450231075287\n",
            "Epoch : 1, Batch : 3700, Loss : 0.3178175091743469\n",
            "Epoch : 1, Batch : 3800, Loss : 0.025506634265184402\n",
            "Epoch : 1, Batch : 3900, Loss : 0.1213524118065834\n",
            "Epoch : 1, Batch : 4000, Loss : 0.0336303673684597\n",
            "Epoch : 1, Batch : 4100, Loss : 0.0023328952956944704\n",
            "Epoch : 1, Batch : 4200, Loss : 0.09492527693510056\n",
            "Epoch : 1, Batch : 4300, Loss : 0.016374189406633377\n",
            "Epoch : 1, Batch : 4400, Loss : 0.03765943646430969\n",
            "Epoch : 1, Batch : 4500, Loss : 0.010651644319295883\n",
            "Epoch : 1, Batch : 4600, Loss : 0.2614189088344574\n",
            "Epoch : 1, Batch : 4700, Loss : 0.17326411604881287\n",
            "Epoch : 1, Batch : 4800, Loss : 0.7985662817955017\n",
            "Epoch : 1, Batch : 4900, Loss : 0.05270596593618393\n",
            "Epoch : 1, Batch : 5000, Loss : 0.0952816978096962\n",
            "Epoch : 1, Batch : 5100, Loss : 0.04227809980511665\n",
            "Epoch : 1, Batch : 5200, Loss : 0.013624037615954876\n",
            "Epoch : 1, Batch : 5300, Loss : 0.05477036163210869\n",
            "Epoch : 1, Batch : 5400, Loss : 0.006388195790350437\n",
            "Epoch : 1, Batch : 5500, Loss : 0.014229212887585163\n",
            "Epoch : 1, Batch : 5600, Loss : 0.005447018891572952\n",
            "Epoch : 1, Batch : 5700, Loss : 0.0032927580177783966\n",
            "Epoch : 1, Batch : 5800, Loss : 0.0046140714548528194\n",
            "Epoch : 1, Batch : 5900, Loss : 0.0017741501796990633\n",
            "Epoch : 1, Batch : 6000, Loss : 0.0487610287964344\n",
            "Epoch : 2, Batch : 100, Loss : 0.13471877574920654\n",
            "Epoch : 2, Batch : 200, Loss : 0.0030516288243234158\n",
            "Epoch : 2, Batch : 300, Loss : 0.0013134102337062359\n",
            "Epoch : 2, Batch : 400, Loss : 0.0021579163148999214\n",
            "Epoch : 2, Batch : 500, Loss : 0.00536673329770565\n",
            "Epoch : 2, Batch : 600, Loss : 0.0035310250241309404\n",
            "Epoch : 2, Batch : 700, Loss : 0.036362528800964355\n",
            "Epoch : 2, Batch : 800, Loss : 0.12983563542366028\n",
            "Epoch : 2, Batch : 900, Loss : 0.04197275638580322\n",
            "Epoch : 2, Batch : 1000, Loss : 0.026646126061677933\n",
            "Epoch : 2, Batch : 1100, Loss : 0.0031481969635933638\n",
            "Epoch : 2, Batch : 1200, Loss : 0.0017958513926714659\n",
            "Epoch : 2, Batch : 1300, Loss : 0.29182687401771545\n",
            "Epoch : 2, Batch : 1400, Loss : 0.0135944290086627\n",
            "Epoch : 2, Batch : 1500, Loss : 0.0007652665372006595\n",
            "Epoch : 2, Batch : 1600, Loss : 0.24803900718688965\n",
            "Epoch : 2, Batch : 1700, Loss : 0.08700056374073029\n",
            "Epoch : 2, Batch : 1800, Loss : 0.020943066105246544\n",
            "Epoch : 2, Batch : 1900, Loss : 0.0008424503030255437\n",
            "Epoch : 2, Batch : 2000, Loss : 0.07724031805992126\n",
            "Epoch : 2, Batch : 2100, Loss : 0.0011526301968842745\n",
            "Epoch : 2, Batch : 2200, Loss : 0.027447428554296494\n",
            "Epoch : 2, Batch : 2300, Loss : 0.4245685636997223\n",
            "Epoch : 2, Batch : 2400, Loss : 0.012474890798330307\n",
            "Epoch : 2, Batch : 2500, Loss : 0.0008233048138208687\n",
            "Epoch : 2, Batch : 2600, Loss : 0.00020057284564245492\n",
            "Epoch : 2, Batch : 2700, Loss : 0.004040380474179983\n",
            "Epoch : 2, Batch : 2800, Loss : 0.003879709169268608\n",
            "Epoch : 2, Batch : 2900, Loss : 0.04510803520679474\n",
            "Epoch : 2, Batch : 3000, Loss : 0.014387279748916626\n",
            "Epoch : 2, Batch : 3100, Loss : 0.19280557334423065\n",
            "Epoch : 2, Batch : 3200, Loss : 0.07002368569374084\n",
            "Epoch : 2, Batch : 3300, Loss : 0.022078324109315872\n",
            "Epoch : 2, Batch : 3400, Loss : 0.0041688233613967896\n",
            "Epoch : 2, Batch : 3500, Loss : 0.03833452984690666\n",
            "Epoch : 2, Batch : 3600, Loss : 0.004048656672239304\n",
            "Epoch : 2, Batch : 3700, Loss : 0.005161403678357601\n",
            "Epoch : 2, Batch : 3800, Loss : 0.00659039244055748\n",
            "Epoch : 2, Batch : 3900, Loss : 0.002738481853157282\n",
            "Epoch : 2, Batch : 4000, Loss : 0.005274308379739523\n",
            "Epoch : 2, Batch : 4100, Loss : 0.06285800784826279\n",
            "Epoch : 2, Batch : 4200, Loss : 0.0011671737302094698\n",
            "Epoch : 2, Batch : 4300, Loss : 0.08981909602880478\n",
            "Epoch : 2, Batch : 4400, Loss : 0.005629405379295349\n",
            "Epoch : 2, Batch : 4500, Loss : 0.00044825993245467544\n",
            "Epoch : 2, Batch : 4600, Loss : 0.16041944921016693\n",
            "Epoch : 2, Batch : 4700, Loss : 0.005161174573004246\n",
            "Epoch : 2, Batch : 4800, Loss : 0.001483504893258214\n",
            "Epoch : 2, Batch : 4900, Loss : 0.0026898575015366077\n",
            "Epoch : 2, Batch : 5000, Loss : 0.002234748098999262\n",
            "Epoch : 2, Batch : 5100, Loss : 0.00012668690760619938\n",
            "Epoch : 2, Batch : 5200, Loss : 0.0016385531052947044\n",
            "Epoch : 2, Batch : 5300, Loss : 0.011373503133654594\n",
            "Epoch : 2, Batch : 5400, Loss : 0.09165529161691666\n",
            "Epoch : 2, Batch : 5500, Loss : 0.48831310868263245\n",
            "Epoch : 2, Batch : 5600, Loss : 0.001336397835984826\n",
            "Epoch : 2, Batch : 5700, Loss : 0.02124658040702343\n",
            "Epoch : 2, Batch : 5800, Loss : 0.007085096091032028\n",
            "Epoch : 2, Batch : 5900, Loss : 0.4313984513282776\n",
            "Epoch : 2, Batch : 6000, Loss : 0.2680354714393616\n",
            "Epoch : 3, Batch : 100, Loss : 0.005137976258993149\n",
            "Epoch : 3, Batch : 200, Loss : 0.06680192798376083\n",
            "Epoch : 3, Batch : 300, Loss : 0.0475863441824913\n",
            "Epoch : 3, Batch : 400, Loss : 0.2048756182193756\n",
            "Epoch : 3, Batch : 500, Loss : 0.0024021787103265524\n",
            "Epoch : 3, Batch : 600, Loss : 0.0022735598031431437\n",
            "Epoch : 3, Batch : 700, Loss : 0.0007940251380205154\n",
            "Epoch : 3, Batch : 800, Loss : 0.0012048142962157726\n",
            "Epoch : 3, Batch : 900, Loss : 0.005466899834573269\n",
            "Epoch : 3, Batch : 1000, Loss : 0.0003570136323105544\n",
            "Epoch : 3, Batch : 1100, Loss : 0.0012188729597255588\n",
            "Epoch : 3, Batch : 1200, Loss : 0.08027620613574982\n",
            "Epoch : 3, Batch : 1300, Loss : 0.007519072387367487\n",
            "Epoch : 3, Batch : 1400, Loss : 0.0017814909806475043\n",
            "Epoch : 3, Batch : 1500, Loss : 0.011827625334262848\n",
            "Epoch : 3, Batch : 1600, Loss : 0.3380185663700104\n",
            "Epoch : 3, Batch : 1700, Loss : 0.030923878774046898\n",
            "Epoch : 3, Batch : 1800, Loss : 0.0005335547029972076\n",
            "Epoch : 3, Batch : 1900, Loss : 0.04993060976266861\n",
            "Epoch : 3, Batch : 2000, Loss : 0.006328343413770199\n",
            "Epoch : 3, Batch : 2100, Loss : 3.449723226367496e-05\n",
            "Epoch : 3, Batch : 2200, Loss : 0.02956128679215908\n",
            "Epoch : 3, Batch : 2300, Loss : 0.0010329848155379295\n",
            "Epoch : 3, Batch : 2400, Loss : 0.21716530621051788\n",
            "Epoch : 3, Batch : 2500, Loss : 0.020470593124628067\n",
            "Epoch : 3, Batch : 2600, Loss : 0.0024657356552779675\n",
            "Epoch : 3, Batch : 2700, Loss : 0.034440841525793076\n",
            "Epoch : 3, Batch : 2800, Loss : 0.00907559972256422\n",
            "Epoch : 3, Batch : 2900, Loss : 0.008315807208418846\n",
            "Epoch : 3, Batch : 3000, Loss : 0.016628552228212357\n",
            "Epoch : 3, Batch : 3100, Loss : 0.0024417047388851643\n",
            "Epoch : 3, Batch : 3200, Loss : 0.034998565912246704\n",
            "Epoch : 3, Batch : 3300, Loss : 0.004995130468159914\n",
            "Epoch : 3, Batch : 3400, Loss : 0.0005789475399069488\n",
            "Epoch : 3, Batch : 3500, Loss : 0.1364021599292755\n",
            "Epoch : 3, Batch : 3600, Loss : 0.0026859301142394543\n",
            "Epoch : 3, Batch : 3700, Loss : 0.013773691840469837\n",
            "Epoch : 3, Batch : 3800, Loss : 0.07439420372247696\n",
            "Epoch : 3, Batch : 3900, Loss : 0.02142089046537876\n",
            "Epoch : 3, Batch : 4000, Loss : 0.00013406491780187935\n",
            "Epoch : 3, Batch : 4100, Loss : 0.00653906399384141\n",
            "Epoch : 3, Batch : 4200, Loss : 0.003882707329466939\n",
            "Epoch : 3, Batch : 4300, Loss : 0.014223210513591766\n",
            "Epoch : 3, Batch : 4400, Loss : 0.0014145998284220695\n",
            "Epoch : 3, Batch : 4500, Loss : 0.0014455813216045499\n",
            "Epoch : 3, Batch : 4600, Loss : 0.010861977003514767\n",
            "Epoch : 3, Batch : 4700, Loss : 0.0008715403964743018\n",
            "Epoch : 3, Batch : 4800, Loss : 0.0034755002707242966\n",
            "Epoch : 3, Batch : 4900, Loss : 0.0050567942671477795\n",
            "Epoch : 3, Batch : 5000, Loss : 0.014321833848953247\n",
            "Epoch : 3, Batch : 5100, Loss : 0.0011929256143048406\n",
            "Epoch : 3, Batch : 5200, Loss : 0.001106300507672131\n",
            "Epoch : 3, Batch : 5300, Loss : 0.0005666916258633137\n",
            "Epoch : 3, Batch : 5400, Loss : 0.0005368617130443454\n",
            "Epoch : 3, Batch : 5500, Loss : 0.00017434511391911656\n",
            "Epoch : 3, Batch : 5600, Loss : 0.0001508329005446285\n",
            "Epoch : 3, Batch : 5700, Loss : 0.002913034288212657\n",
            "Epoch : 3, Batch : 5800, Loss : 0.00010441838821861893\n",
            "Epoch : 3, Batch : 5900, Loss : 0.3260347545146942\n",
            "Epoch : 3, Batch : 6000, Loss : 0.1845497190952301\n",
            "Epoch : 4, Batch : 100, Loss : 0.0020471650641411543\n",
            "Epoch : 4, Batch : 200, Loss : 2.195759952883236e-05\n",
            "Epoch : 4, Batch : 300, Loss : 0.015267504379153252\n",
            "Epoch : 4, Batch : 400, Loss : 0.0017009001458063722\n",
            "Epoch : 4, Batch : 500, Loss : 0.0001550253655295819\n",
            "Epoch : 4, Batch : 600, Loss : 0.0039160121232271194\n",
            "Epoch : 4, Batch : 700, Loss : 0.006985281594097614\n",
            "Epoch : 4, Batch : 800, Loss : 0.0007081168587319553\n",
            "Epoch : 4, Batch : 900, Loss : 0.027766656130552292\n",
            "Epoch : 4, Batch : 1000, Loss : 0.0019779466092586517\n",
            "Epoch : 4, Batch : 1100, Loss : 0.06953486055135727\n",
            "Epoch : 4, Batch : 1200, Loss : 0.0018298588693141937\n",
            "Epoch : 4, Batch : 1300, Loss : 0.003070772858336568\n",
            "Epoch : 4, Batch : 1400, Loss : 0.06142435222864151\n",
            "Epoch : 4, Batch : 1500, Loss : 0.004412687383592129\n",
            "Epoch : 4, Batch : 1600, Loss : 0.0007131315651349723\n",
            "Epoch : 4, Batch : 1700, Loss : 0.0009522829204797745\n",
            "Epoch : 4, Batch : 1800, Loss : 0.0009889343054965138\n",
            "Epoch : 4, Batch : 1900, Loss : 0.19238963723182678\n",
            "Epoch : 4, Batch : 2000, Loss : 0.006054758094251156\n",
            "Epoch : 4, Batch : 2100, Loss : 0.11623837798833847\n",
            "Epoch : 4, Batch : 2200, Loss : 0.0014291959814727306\n",
            "Epoch : 4, Batch : 2300, Loss : 0.0023627064656466246\n",
            "Epoch : 4, Batch : 2400, Loss : 0.03580500930547714\n",
            "Epoch : 4, Batch : 2500, Loss : 0.07481032609939575\n",
            "Epoch : 4, Batch : 2600, Loss : 0.021316684782505035\n",
            "Epoch : 4, Batch : 2700, Loss : 6.601272616535425e-05\n",
            "Epoch : 4, Batch : 2800, Loss : 0.5432186722755432\n",
            "Epoch : 4, Batch : 2900, Loss : 0.062010716646909714\n",
            "Epoch : 4, Batch : 3000, Loss : 0.0003991624398622662\n",
            "Epoch : 4, Batch : 3100, Loss : 0.004816296510398388\n",
            "Epoch : 4, Batch : 3200, Loss : 0.012189916335046291\n",
            "Epoch : 4, Batch : 3300, Loss : 0.10698896646499634\n",
            "Epoch : 4, Batch : 3400, Loss : 0.0004883468500338495\n",
            "Epoch : 4, Batch : 3500, Loss : 0.008276991546154022\n",
            "Epoch : 4, Batch : 3600, Loss : 0.02702217362821102\n",
            "Epoch : 4, Batch : 3700, Loss : 0.0033246625680476427\n",
            "Epoch : 4, Batch : 3800, Loss : 0.0007302830927073956\n",
            "Epoch : 4, Batch : 3900, Loss : 0.08987033367156982\n",
            "Epoch : 4, Batch : 4000, Loss : 0.19462715089321136\n",
            "Epoch : 4, Batch : 4100, Loss : 0.0016032429412007332\n",
            "Epoch : 4, Batch : 4200, Loss : 0.0035111061297357082\n",
            "Epoch : 4, Batch : 4300, Loss : 0.0037711155600845814\n",
            "Epoch : 4, Batch : 4400, Loss : 0.0006403445149771869\n",
            "Epoch : 4, Batch : 4500, Loss : 0.0017091315239667892\n",
            "Epoch : 4, Batch : 4600, Loss : 0.003198960330337286\n",
            "Epoch : 4, Batch : 4700, Loss : 0.01715056039392948\n",
            "Epoch : 4, Batch : 4800, Loss : 0.006159300450235605\n",
            "Epoch : 4, Batch : 4900, Loss : 0.0005091038765385747\n",
            "Epoch : 4, Batch : 5000, Loss : 7.497998012695462e-05\n",
            "Epoch : 4, Batch : 5100, Loss : 0.18271228671073914\n",
            "Epoch : 4, Batch : 5200, Loss : 0.0015374969225376844\n",
            "Epoch : 4, Batch : 5300, Loss : 0.007027083076536655\n",
            "Epoch : 4, Batch : 5400, Loss : 0.30853816866874695\n",
            "Epoch : 4, Batch : 5500, Loss : 0.006901819258928299\n",
            "Epoch : 4, Batch : 5600, Loss : 0.08805733919143677\n",
            "Epoch : 4, Batch : 5700, Loss : 0.002314613899216056\n",
            "Epoch : 4, Batch : 5800, Loss : 0.0010642388369888067\n",
            "Epoch : 4, Batch : 5900, Loss : 0.002680754056200385\n",
            "Epoch : 4, Batch : 6000, Loss : 0.001727961003780365\n",
            "Epoch : 5, Batch : 100, Loss : 0.004735786002129316\n",
            "Epoch : 5, Batch : 200, Loss : 0.0002556181570980698\n",
            "Epoch : 5, Batch : 300, Loss : 0.0003556521260179579\n",
            "Epoch : 5, Batch : 400, Loss : 7.39235692890361e-05\n",
            "Epoch : 5, Batch : 500, Loss : 0.0015688504790887237\n",
            "Epoch : 5, Batch : 600, Loss : 0.016331706196069717\n",
            "Epoch : 5, Batch : 700, Loss : 0.002049526898190379\n",
            "Epoch : 5, Batch : 800, Loss : 1.3637250049214344e-05\n",
            "Epoch : 5, Batch : 900, Loss : 0.0862174779176712\n",
            "Epoch : 5, Batch : 1000, Loss : 1.887000325950794e-05\n",
            "Epoch : 5, Batch : 1100, Loss : 4.2864263377850875e-05\n",
            "Epoch : 5, Batch : 1200, Loss : 0.0001234931405633688\n",
            "Epoch : 5, Batch : 1300, Loss : 0.04559766501188278\n",
            "Epoch : 5, Batch : 1400, Loss : 0.007634258829057217\n",
            "Epoch : 5, Batch : 1500, Loss : 0.00017256909632124007\n",
            "Epoch : 5, Batch : 1600, Loss : 0.4068547189235687\n",
            "Epoch : 5, Batch : 1700, Loss : 0.009903745725750923\n",
            "Epoch : 5, Batch : 1800, Loss : 0.0005815571639686823\n",
            "Epoch : 5, Batch : 1900, Loss : 0.006658801343291998\n",
            "Epoch : 5, Batch : 2000, Loss : 0.011094721034169197\n",
            "Epoch : 5, Batch : 2100, Loss : 0.010026110336184502\n",
            "Epoch : 5, Batch : 2200, Loss : 0.0002904775901697576\n",
            "Epoch : 5, Batch : 2300, Loss : 0.012597719207406044\n",
            "Epoch : 5, Batch : 2400, Loss : 0.0013395559508353472\n",
            "Epoch : 5, Batch : 2500, Loss : 0.0003071358660236001\n",
            "Epoch : 5, Batch : 2600, Loss : 0.003071729326620698\n",
            "Epoch : 5, Batch : 2700, Loss : 0.024789627641439438\n",
            "Epoch : 5, Batch : 2800, Loss : 0.0013471853453665972\n",
            "Epoch : 5, Batch : 2900, Loss : 0.0009582621278241277\n",
            "Epoch : 5, Batch : 3000, Loss : 0.0008632001699879766\n",
            "Epoch : 5, Batch : 3100, Loss : 5.0254260713700205e-05\n",
            "Epoch : 5, Batch : 3200, Loss : 0.3219282925128937\n",
            "Epoch : 5, Batch : 3300, Loss : 0.004326718859374523\n",
            "Epoch : 5, Batch : 3400, Loss : 0.013142737559974194\n",
            "Epoch : 5, Batch : 3500, Loss : 0.0009888445492833853\n",
            "Epoch : 5, Batch : 3600, Loss : 0.0004913942539133132\n",
            "Epoch : 5, Batch : 3700, Loss : 0.004480080679059029\n",
            "Epoch : 5, Batch : 3800, Loss : 0.0012431200593709946\n",
            "Epoch : 5, Batch : 3900, Loss : 0.0007713046506978571\n",
            "Epoch : 5, Batch : 4000, Loss : 0.006191897206008434\n",
            "Epoch : 5, Batch : 4100, Loss : 0.03315082937479019\n",
            "Epoch : 5, Batch : 4200, Loss : 0.001948480843566358\n",
            "Epoch : 5, Batch : 4300, Loss : 0.1111009493470192\n",
            "Epoch : 5, Batch : 4400, Loss : 0.010411638766527176\n",
            "Epoch : 5, Batch : 4500, Loss : 0.001148944371379912\n",
            "Epoch : 5, Batch : 4600, Loss : 0.0007645577425137162\n",
            "Epoch : 5, Batch : 4700, Loss : 0.00018072947568725795\n",
            "Epoch : 5, Batch : 4800, Loss : 0.006822532508522272\n",
            "Epoch : 5, Batch : 4900, Loss : 2.6699568479671143e-05\n",
            "Epoch : 5, Batch : 5000, Loss : 0.0013826715294271708\n",
            "Epoch : 5, Batch : 5100, Loss : 0.0033303280360996723\n",
            "Epoch : 5, Batch : 5200, Loss : 0.0004105015250388533\n",
            "Epoch : 5, Batch : 5300, Loss : 0.04453667998313904\n",
            "Epoch : 5, Batch : 5400, Loss : 0.07477409392595291\n",
            "Epoch : 5, Batch : 5500, Loss : 0.00041107815923169255\n",
            "Epoch : 5, Batch : 5600, Loss : 6.148309330455959e-05\n",
            "Epoch : 5, Batch : 5700, Loss : 0.0002639472659211606\n",
            "Epoch : 5, Batch : 5800, Loss : 0.0012293336912989616\n",
            "Epoch : 5, Batch : 5900, Loss : 0.04616821929812431\n",
            "Epoch : 5, Batch : 6000, Loss : 0.06693120300769806\n",
            "Training took 182.71201014518738 seconds!\n"
          ]
        }
      ]
    },
    {
      "cell_type": "markdown",
      "source": [
        "## **Plotting the results**"
      ],
      "metadata": {
        "id": "UGU44jqZpwpb"
      }
    },
    {
      "cell_type": "code",
      "source": [
        "# plotting the results\n",
        "train_losses = [tl.item() for tl in train_losses]\n",
        "\n",
        "plt.plot(train_losses, label = \"Training loss\")\n",
        "plt.plot(test_losses, label = \"Validation loss\")\n",
        "plt.title(\"Loss at Epoch\")\n",
        "plt.legend()"
      ],
      "metadata": {
        "colab": {
          "base_uri": "https://localhost:8080/",
          "height": 469
        },
        "id": "dXb2qj0gdZ5y",
        "outputId": "3cb9eec6-bf4c-4d2a-806e-3ec2d4b677b5"
      },
      "execution_count": 66,
      "outputs": [
        {
          "output_type": "execute_result",
          "data": {
            "text/plain": [
              "<matplotlib.legend.Legend at 0x7fa1e14e7bb0>"
            ]
          },
          "metadata": {},
          "execution_count": 66
        },
        {
          "output_type": "display_data",
          "data": {
            "text/plain": [
              "<Figure size 640x480 with 1 Axes>"
            ],
            "image/png": "[encoded data removed]"
          },
          "metadata": {}
        }
      ]
    },
    {
      "cell_type": "code",
      "source": [
        "plt.plot([t / 600 for t in train_correct], label = \"Training Accuracy\")\n",
        "plt.plot([t / 100 for t in test_correct], label = \"Validation Accuracy\")\n",
        "plt.title(\"Accuracy at the end of each epoch\")\n",
        "plt.legend()"
      ],
      "metadata": {
        "colab": {
          "base_uri": "https://localhost:8080/",
          "height": 469
        },
        "id": "YO4TCtYEglTk",
        "outputId": "a0321dda-467a-4971-fbd8-004316997755"
      },
      "execution_count": 67,
      "outputs": [
        {
          "output_type": "execute_result",
          "data": {
            "text/plain": [
              "<matplotlib.legend.Legend at 0x7fa1e17c73d0>"
            ]
          },
          "metadata": {},
          "execution_count": 67
        },
        {
          "output_type": "display_data",
          "data": {
            "text/plain": [
              "<Figure size 640x480 with 1 Axes>"
            ],
            "image/png": "[encoded data removed]"
          },
          "metadata": {}
        }
      ]
    },
    {
      "cell_type": "markdown",
      "source": [
        "##**Finding the Accuracy!**"
      ],
      "metadata": {
        "id": "2kb0AoXKqFK0"
      }
    },
    {
      "cell_type": "code",
      "source": [
        "with torch.no_grad():\n",
        "  correct = 0\n",
        "  for X_test, y_test in DataLoader(test_data, batch_size = 10000, shuffle = False):\n",
        "    y_pred = model.feedForward(X_test)\n",
        "    predicted = torch.max(y_pred, 1)[1]\n",
        "    correct += (predicted == y_test).sum()"
      ],
      "metadata": {
        "id": "_9BlunfKjl2S"
      },
      "execution_count": 68,
      "outputs": []
    },
    {
      "cell_type": "code",
      "source": [
        "# Accuracy\n",
        "print(f\"Accuracy : {correct.item() / len(test_data) * 100}%\")"
      ],
      "metadata": {
        "colab": {
          "base_uri": "https://localhost:8080/"
        },
        "id": "0UAhOVzKkhC8",
        "outputId": "69a6b90e-4bb8-4783-e1e4-8e5e03848c08"
      },
      "execution_count": 69,
      "outputs": [
        {
          "output_type": "stream",
          "name": "stdout",
          "text": [
            "Accuracy : 98.22%\n"
          ]
        }
      ]
    },
    {
      "cell_type": "markdown",
      "source": [
        "##**Testing using an image**"
      ],
      "metadata": {
        "id": "nVj4P3hUqZUg"
      }
    },
    {
      "cell_type": "code",
      "source": [
        "plt.imshow(test_data[1117][0].reshape(28,28))"
      ],
      "metadata": {
        "colab": {
          "base_uri": "https://localhost:8080/",
          "height": 447
        },
        "id": "Cc5_nH8_mjI6",
        "outputId": "d1afd3a8-1e6c-483c-9cff-b8b00e7f8268"
      },
      "execution_count": 70,
      "outputs": [
        {
          "output_type": "execute_result",
          "data": {
            "text/plain": [
              "<matplotlib.image.AxesImage at 0x7fa1df2b2a10>"
            ]
          },
          "metadata": {},
          "execution_count": 70
        },
        {
          "output_type": "display_data",
          "data": {
            "text/plain": [
              "<Figure size 640x480 with 1 Axes>"
            ],
            "image/png": "[encoded data removed]"
          },
          "metadata": {}
        }
      ]
    },
    {
      "cell_type": "code",
      "source": [
        "model.eval()\n",
        "with torch.no_grad():\n",
        "  prediction = model.feedForward(test_data[1117][0].view(1, 1, 28, 28))"
      ],
      "metadata": {
        "id": "fC2Im6P0m0ip"
      },
      "execution_count": 71,
      "outputs": []
    },
    {
      "cell_type": "code",
      "source": [
        "print(f\"The number shown above is {prediction.argmax()}\")"
      ],
      "metadata": {
        "colab": {
          "base_uri": "https://localhost:8080/"
        },
        "id": "kOuJA2Z9nd00",
        "outputId": "d020229a-520c-4ca4-f4a1-e240f013f6d4"
      },
      "execution_count": 72,
      "outputs": [
        {
          "output_type": "stream",
          "name": "stdout",
          "text": [
            "The number shown above is 7\n"
          ]
        }
      ]
    },
    {
      "cell_type": "markdown",
      "source": [
        "##**Saving the model**"
      ],
      "metadata": {
        "id": "Kj2IkLyFsfaW"
      }
    },
    {
      "cell_type": "code",
      "source": [
        "torch.save(model.state_dict(), \"MNIST_CNN_Model.pt\")"
      ],
      "metadata": {
        "id": "XC0WokyysX_v"
      },
      "execution_count": 73,
      "outputs": []
    }
  ]
}