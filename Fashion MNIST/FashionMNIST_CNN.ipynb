{
  "nbformat": 4,
  "nbformat_minor": 0,
  "metadata": {
    "colab": {
      "provenance": [],
      "gpuType": "T4"
    },
    "kernelspec": {
      "name": "python3",
      "display_name": "Python 3"
    },
    "language_info": {
      "name": "python"
    },
    "accelerator": "GPU"
  },
  "cells": [
    {
      "cell_type": "markdown",
      "source": [
        "#**Fashion MNIST CNN Model!**"
      ],
      "metadata": {
        "id": "mcCOGDEOeqX5"
      }
    },
    {
      "cell_type": "code",
      "execution_count": 24,
      "metadata": {
        "id": "KiNqfeDaO2fk"
      },
      "outputs": [],
      "source": [
        "import numpy as np\n",
        "import matplotlib.pyplot as plt\n",
        "\n",
        "import torch\n",
        "import torch.nn as nn\n",
        "import torch.nn.functional as F\n",
        "from torch.utils.data import DataLoader\n",
        "from torchvision import datasets, transforms"
      ]
    },
    {
      "cell_type": "code",
      "source": [
        "%matplotlib inline"
      ],
      "metadata": {
        "id": "Mq_mQnu0QMy_"
      },
      "execution_count": 25,
      "outputs": []
    },
    {
      "cell_type": "markdown",
      "source": [
        "##**Data Collection & Processing**"
      ],
      "metadata": {
        "id": "LfPWAN6BfJK-"
      }
    },
    {
      "cell_type": "code",
      "source": [
        "transform = transforms.ToTensor()"
      ],
      "metadata": {
        "id": "jtfkmT-tQS-E"
      },
      "execution_count": 26,
      "outputs": []
    },
    {
      "cell_type": "code",
      "source": [
        "train_data = datasets.FashionMNIST(root = \"data\", train = True, transform = transform, download = True)\n",
        "test_data = datasets.FashionMNIST(root = \"data\", train = False, transform = transform, download = True)"
      ],
      "metadata": {
        "id": "EAEkUj7dQbmN"
      },
      "execution_count": 27,
      "outputs": []
    },
    {
      "cell_type": "code",
      "source": [
        "train_loader = DataLoader(train_data, batch_size = 10, shuffle = True)\n",
        "test_loader = DataLoader(test_data, batch_size = 10, shuffle = True)"
      ],
      "metadata": {
        "id": "CktSc8IDQ5k6"
      },
      "execution_count": 28,
      "outputs": []
    },
    {
      "cell_type": "code",
      "source": [
        "print(train_data[0])"
      ],
      "metadata": {
        "colab": {
          "base_uri": "https://localhost:8080/"
        },
        "id": "eafI3CldRNla",
        "outputId": "e71a50f4-e170-4d71-9da6-cdf826036247"
      },
      "execution_count": 29,
      "outputs": [
        {
          "output_type": "stream",
          "name": "stdout",
          "text": [
            "(tensor([[[0.0000, 0.0000, 0.0000, 0.0000, 0.0000, 0.0000, 0.0000, 0.0000,\n",
            "          0.0000, 0.0000, 0.0000, 0.0000, 0.0000, 0.0000, 0.0000, 0.0000,\n",
            "          0.0000, 0.0000, 0.0000, 0.0000, 0.0000, 0.0000, 0.0000, 0.0000,\n",
            "          0.0000, 0.0000, 0.0000, 0.0000],\n",
            "         [0.0000, 0.0000, 0.0000, 0.0000, 0.0000, 0.0000, 0.0000, 0.0000,\n",
            "          0.0000, 0.0000, 0.0000, 0.0000, 0.0000, 0.0000, 0.0000, 0.0000,\n",
            "          0.0000, 0.0000, 0.0000, 0.0000, 0.0000, 0.0000, 0.0000, 0.0000,\n",
            "          0.0000, 0.0000, 0.0000, 0.0000],\n",
            "         [0.0000, 0.0000, 0.0000, 0.0000, 0.0000, 0.0000, 0.0000, 0.0000,\n",
            "          0.0000, 0.0000, 0.0000, 0.0000, 0.0000, 0.0000, 0.0000, 0.0000,\n",
            "          0.0000, 0.0000, 0.0000, 0.0000, 0.0000, 0.0000, 0.0000, 0.0000,\n",
            "          0.0000, 0.0000, 0.0000, 0.0000],\n",
            "         [0.0000, 0.0000, 0.0000, 0.0000, 0.0000, 0.0000, 0.0000, 0.0000,\n",
            "          0.0000, 0.0000, 0.0000, 0.0000, 0.0039, 0.0000, 0.0000, 0.0510,\n",
            "          0.2863, 0.0000, 0.0000, 0.0039, 0.0157, 0.0000, 0.0000, 0.0000,\n",
            "          0.0000, 0.0039, 0.0039, 0.0000],\n",
            "         [0.0000, 0.0000, 0.0000, 0.0000, 0.0000, 0.0000, 0.0000, 0.0000,\n",
            "          0.0000, 0.0000, 0.0000, 0.0000, 0.0118, 0.0000, 0.1412, 0.5333,\n",
            "          0.4980, 0.2431, 0.2118, 0.0000, 0.0000, 0.0000, 0.0039, 0.0118,\n",
            "          0.0157, 0.0000, 0.0000, 0.0118],\n",
            "         [0.0000, 0.0000, 0.0000, 0.0000, 0.0000, 0.0000, 0.0000, 0.0000,\n",
            "          0.0000, 0.0000, 0.0000, 0.0000, 0.0235, 0.0000, 0.4000, 0.8000,\n",
            "          0.6902, 0.5255, 0.5647, 0.4824, 0.0902, 0.0000, 0.0000, 0.0000,\n",
            "          0.0000, 0.0471, 0.0392, 0.0000],\n",
            "         [0.0000, 0.0000, 0.0000, 0.0000, 0.0000, 0.0000, 0.0000, 0.0000,\n",
            "          0.0000, 0.0000, 0.0000, 0.0000, 0.0000, 0.0000, 0.6078, 0.9255,\n",
            "          0.8118, 0.6980, 0.4196, 0.6118, 0.6314, 0.4275, 0.2510, 0.0902,\n",
            "          0.3020, 0.5098, 0.2824, 0.0588],\n",
            "         [0.0000, 0.0000, 0.0000, 0.0000, 0.0000, 0.0000, 0.0000, 0.0000,\n",
            "          0.0000, 0.0000, 0.0000, 0.0039, 0.0000, 0.2706, 0.8118, 0.8745,\n",
            "          0.8549, 0.8471, 0.8471, 0.6392, 0.4980, 0.4745, 0.4784, 0.5725,\n",
            "          0.5529, 0.3451, 0.6745, 0.2588],\n",
            "         [0.0000, 0.0000, 0.0000, 0.0000, 0.0000, 0.0000, 0.0000, 0.0000,\n",
            "          0.0000, 0.0039, 0.0039, 0.0039, 0.0000, 0.7843, 0.9098, 0.9098,\n",
            "          0.9137, 0.8980, 0.8745, 0.8745, 0.8431, 0.8353, 0.6431, 0.4980,\n",
            "          0.4824, 0.7686, 0.8980, 0.0000],\n",
            "         [0.0000, 0.0000, 0.0000, 0.0000, 0.0000, 0.0000, 0.0000, 0.0000,\n",
            "          0.0000, 0.0000, 0.0000, 0.0000, 0.0000, 0.7176, 0.8824, 0.8471,\n",
            "          0.8745, 0.8941, 0.9216, 0.8902, 0.8784, 0.8706, 0.8784, 0.8667,\n",
            "          0.8745, 0.9608, 0.6784, 0.0000],\n",
            "         [0.0000, 0.0000, 0.0000, 0.0000, 0.0000, 0.0000, 0.0000, 0.0000,\n",
            "          0.0000, 0.0000, 0.0000, 0.0000, 0.0000, 0.7569, 0.8941, 0.8549,\n",
            "          0.8353, 0.7765, 0.7059, 0.8314, 0.8235, 0.8275, 0.8353, 0.8745,\n",
            "          0.8627, 0.9529, 0.7922, 0.0000],\n",
            "         [0.0000, 0.0000, 0.0000, 0.0000, 0.0000, 0.0000, 0.0000, 0.0000,\n",
            "          0.0000, 0.0039, 0.0118, 0.0000, 0.0471, 0.8588, 0.8627, 0.8314,\n",
            "          0.8549, 0.7529, 0.6627, 0.8902, 0.8157, 0.8549, 0.8784, 0.8314,\n",
            "          0.8863, 0.7725, 0.8196, 0.2039],\n",
            "         [0.0000, 0.0000, 0.0000, 0.0000, 0.0000, 0.0000, 0.0000, 0.0000,\n",
            "          0.0000, 0.0000, 0.0235, 0.0000, 0.3882, 0.9569, 0.8706, 0.8627,\n",
            "          0.8549, 0.7961, 0.7765, 0.8667, 0.8431, 0.8353, 0.8706, 0.8627,\n",
            "          0.9608, 0.4667, 0.6549, 0.2196],\n",
            "         [0.0000, 0.0000, 0.0000, 0.0000, 0.0000, 0.0000, 0.0000, 0.0000,\n",
            "          0.0000, 0.0157, 0.0000, 0.0000, 0.2157, 0.9255, 0.8941, 0.9020,\n",
            "          0.8941, 0.9412, 0.9098, 0.8353, 0.8549, 0.8745, 0.9176, 0.8510,\n",
            "          0.8510, 0.8196, 0.3608, 0.0000],\n",
            "         [0.0000, 0.0000, 0.0039, 0.0157, 0.0235, 0.0275, 0.0078, 0.0000,\n",
            "          0.0000, 0.0000, 0.0000, 0.0000, 0.9294, 0.8863, 0.8510, 0.8745,\n",
            "          0.8706, 0.8588, 0.8706, 0.8667, 0.8471, 0.8745, 0.8980, 0.8431,\n",
            "          0.8549, 1.0000, 0.3020, 0.0000],\n",
            "         [0.0000, 0.0118, 0.0000, 0.0000, 0.0000, 0.0000, 0.0000, 0.0000,\n",
            "          0.0000, 0.2431, 0.5686, 0.8000, 0.8941, 0.8118, 0.8353, 0.8667,\n",
            "          0.8549, 0.8157, 0.8275, 0.8549, 0.8784, 0.8745, 0.8588, 0.8431,\n",
            "          0.8784, 0.9569, 0.6235, 0.0000],\n",
            "         [0.0000, 0.0000, 0.0000, 0.0000, 0.0706, 0.1725, 0.3216, 0.4196,\n",
            "          0.7412, 0.8941, 0.8627, 0.8706, 0.8510, 0.8863, 0.7843, 0.8039,\n",
            "          0.8275, 0.9020, 0.8784, 0.9176, 0.6902, 0.7373, 0.9804, 0.9725,\n",
            "          0.9137, 0.9333, 0.8431, 0.0000],\n",
            "         [0.0000, 0.2235, 0.7333, 0.8157, 0.8784, 0.8667, 0.8784, 0.8157,\n",
            "          0.8000, 0.8392, 0.8157, 0.8196, 0.7843, 0.6235, 0.9608, 0.7569,\n",
            "          0.8078, 0.8745, 1.0000, 1.0000, 0.8667, 0.9176, 0.8667, 0.8275,\n",
            "          0.8627, 0.9098, 0.9647, 0.0000],\n",
            "         [0.0118, 0.7922, 0.8941, 0.8784, 0.8667, 0.8275, 0.8275, 0.8392,\n",
            "          0.8039, 0.8039, 0.8039, 0.8627, 0.9412, 0.3137, 0.5882, 1.0000,\n",
            "          0.8980, 0.8667, 0.7373, 0.6039, 0.7490, 0.8235, 0.8000, 0.8196,\n",
            "          0.8706, 0.8941, 0.8824, 0.0000],\n",
            "         [0.3843, 0.9137, 0.7765, 0.8235, 0.8706, 0.8980, 0.8980, 0.9176,\n",
            "          0.9765, 0.8627, 0.7608, 0.8431, 0.8510, 0.9451, 0.2549, 0.2863,\n",
            "          0.4157, 0.4588, 0.6588, 0.8588, 0.8667, 0.8431, 0.8510, 0.8745,\n",
            "          0.8745, 0.8784, 0.8980, 0.1137],\n",
            "         [0.2941, 0.8000, 0.8314, 0.8000, 0.7569, 0.8039, 0.8275, 0.8824,\n",
            "          0.8471, 0.7255, 0.7725, 0.8078, 0.7765, 0.8353, 0.9412, 0.7647,\n",
            "          0.8902, 0.9608, 0.9373, 0.8745, 0.8549, 0.8314, 0.8196, 0.8706,\n",
            "          0.8627, 0.8667, 0.9020, 0.2627],\n",
            "         [0.1882, 0.7961, 0.7176, 0.7608, 0.8353, 0.7725, 0.7255, 0.7451,\n",
            "          0.7608, 0.7529, 0.7922, 0.8392, 0.8588, 0.8667, 0.8627, 0.9255,\n",
            "          0.8824, 0.8471, 0.7804, 0.8078, 0.7294, 0.7098, 0.6941, 0.6745,\n",
            "          0.7098, 0.8039, 0.8078, 0.4510],\n",
            "         [0.0000, 0.4784, 0.8588, 0.7569, 0.7020, 0.6706, 0.7176, 0.7686,\n",
            "          0.8000, 0.8235, 0.8353, 0.8118, 0.8275, 0.8235, 0.7843, 0.7686,\n",
            "          0.7608, 0.7490, 0.7647, 0.7490, 0.7765, 0.7529, 0.6902, 0.6118,\n",
            "          0.6549, 0.6941, 0.8235, 0.3608],\n",
            "         [0.0000, 0.0000, 0.2902, 0.7412, 0.8314, 0.7490, 0.6863, 0.6745,\n",
            "          0.6863, 0.7098, 0.7255, 0.7373, 0.7412, 0.7373, 0.7569, 0.7765,\n",
            "          0.8000, 0.8196, 0.8235, 0.8235, 0.8275, 0.7373, 0.7373, 0.7608,\n",
            "          0.7529, 0.8471, 0.6667, 0.0000],\n",
            "         [0.0078, 0.0000, 0.0000, 0.0000, 0.2588, 0.7843, 0.8706, 0.9294,\n",
            "          0.9373, 0.9490, 0.9647, 0.9529, 0.9569, 0.8667, 0.8627, 0.7569,\n",
            "          0.7490, 0.7020, 0.7137, 0.7137, 0.7098, 0.6902, 0.6510, 0.6588,\n",
            "          0.3882, 0.2275, 0.0000, 0.0000],\n",
            "         [0.0000, 0.0000, 0.0000, 0.0000, 0.0000, 0.0000, 0.0000, 0.1569,\n",
            "          0.2392, 0.1725, 0.2824, 0.1608, 0.1373, 0.0000, 0.0000, 0.0000,\n",
            "          0.0000, 0.0000, 0.0000, 0.0000, 0.0000, 0.0000, 0.0000, 0.0000,\n",
            "          0.0000, 0.0000, 0.0000, 0.0000],\n",
            "         [0.0000, 0.0000, 0.0000, 0.0000, 0.0000, 0.0000, 0.0000, 0.0000,\n",
            "          0.0000, 0.0000, 0.0000, 0.0000, 0.0000, 0.0000, 0.0000, 0.0000,\n",
            "          0.0000, 0.0000, 0.0000, 0.0000, 0.0000, 0.0000, 0.0000, 0.0000,\n",
            "          0.0000, 0.0000, 0.0000, 0.0000],\n",
            "         [0.0000, 0.0000, 0.0000, 0.0000, 0.0000, 0.0000, 0.0000, 0.0000,\n",
            "          0.0000, 0.0000, 0.0000, 0.0000, 0.0000, 0.0000, 0.0000, 0.0000,\n",
            "          0.0000, 0.0000, 0.0000, 0.0000, 0.0000, 0.0000, 0.0000, 0.0000,\n",
            "          0.0000, 0.0000, 0.0000, 0.0000]]]), 9)\n"
          ]
        }
      ]
    },
    {
      "cell_type": "markdown",
      "source": [
        "##**Creating the CNN Model!**"
      ],
      "metadata": {
        "id": "K9iKHsBBfj9t"
      }
    },
    {
      "cell_type": "code",
      "source": [
        "class CNN(nn.Module):\n",
        "\n",
        "  def __init__(self):\n",
        "    super().__init__()\n",
        "\n",
        "    self.conv1 = nn.Conv2d(1, 6, 3, 1)\n",
        "    self.conv2 = nn.Conv2d(6, 16, 3, 1)\n",
        "\n",
        "    self.fc1 = nn.Linear(16 * 5 * 5, 120)\n",
        "    self.fc2 = nn.Linear(120, 84)\n",
        "    self.fc3 = nn.Linear(84, 84)\n",
        "    self.fc4 = nn.Linear(84, 84)\n",
        "    self.fc5 = nn.Linear(84, 10)\n",
        "\n",
        "  def feedForward(self, X):\n",
        "    X = F.relu(self.conv1(X))\n",
        "    X = F.max_pool2d(X, 2, 2)\n",
        "    X = F.relu(self.conv2(X))\n",
        "    X = F.max_pool2d(X, 2, 2)\n",
        "\n",
        "    X = X.view(-1, 16 * 5 * 5)\n",
        "\n",
        "    X = F.relu(self.fc1(X))\n",
        "    X = F.relu(self.fc2(X))\n",
        "    X = F.relu(self.fc3(X))\n",
        "    X = F.relu(self.fc4(X))\n",
        "    X = self.fc5(X)\n",
        "\n",
        "    return F.log_softmax(X, dim = 1)"
      ],
      "metadata": {
        "id": "o_p0ZTJmRygY"
      },
      "execution_count": 30,
      "outputs": []
    },
    {
      "cell_type": "code",
      "source": [
        "torch.manual_seed(71)"
      ],
      "metadata": {
        "colab": {
          "base_uri": "https://localhost:8080/"
        },
        "id": "9NuwTpFiUdLW",
        "outputId": "fa48561f-c816-47ee-8ead-6c8939b0c2fc"
      },
      "execution_count": 31,
      "outputs": [
        {
          "output_type": "execute_result",
          "data": {
            "text/plain": [
              "<torch._C.Generator at 0x79b0bdacbd10>"
            ]
          },
          "metadata": {},
          "execution_count": 31
        }
      ]
    },
    {
      "cell_type": "code",
      "source": [
        "model = CNN()"
      ],
      "metadata": {
        "id": "vqKhg-j6Uqav"
      },
      "execution_count": 32,
      "outputs": []
    },
    {
      "cell_type": "code",
      "source": [
        "model"
      ],
      "metadata": {
        "colab": {
          "base_uri": "https://localhost:8080/"
        },
        "id": "P9Pvt1UzUwgs",
        "outputId": "0718b9f7-6f80-4f5b-a1b1-4b1767e57fd4"
      },
      "execution_count": 33,
      "outputs": [
        {
          "output_type": "execute_result",
          "data": {
            "text/plain": [
              "CNN(\n",
              "  (conv1): Conv2d(1, 6, kernel_size=(3, 3), stride=(1, 1))\n",
              "  (conv2): Conv2d(6, 16, kernel_size=(3, 3), stride=(1, 1))\n",
              "  (fc1): Linear(in_features=400, out_features=120, bias=True)\n",
              "  (fc2): Linear(in_features=120, out_features=84, bias=True)\n",
              "  (fc3): Linear(in_features=84, out_features=84, bias=True)\n",
              "  (fc4): Linear(in_features=84, out_features=84, bias=True)\n",
              "  (fc5): Linear(in_features=84, out_features=10, bias=True)\n",
              ")"
            ]
          },
          "metadata": {},
          "execution_count": 33
        }
      ]
    },
    {
      "cell_type": "markdown",
      "source": [
        "##**Training the Model**"
      ],
      "metadata": {
        "id": "M33m2zULftCQ"
      }
    },
    {
      "cell_type": "code",
      "source": [
        "criterion = nn.CrossEntropyLoss()\n",
        "optimizer = torch.optim.Adam(model.parameters(), lr = 0.001)"
      ],
      "metadata": {
        "id": "121FrD_7U28d"
      },
      "execution_count": 34,
      "outputs": []
    },
    {
      "cell_type": "code",
      "source": [
        "import time\n",
        "\n",
        "start_time = time.time()\n",
        "\n",
        "epochs : int = 5\n",
        "train_losses : int = []\n",
        "test_losses : int = []\n",
        "train_correct : int = []\n",
        "test_correct : int = []\n",
        "\n",
        "i : int = 1\n",
        "while i <= 5:\n",
        "  train_corr = 0\n",
        "  test_corr = 0\n",
        "\n",
        "  for b, (X_train, y_train) in enumerate(train_loader):\n",
        "    b += 1\n",
        "\n",
        "    y_pred = model.feedForward(X_train)\n",
        "    loss = criterion(y_pred, y_train)\n",
        "    predicted = torch.max(y_pred.data, 1)[1]\n",
        "\n",
        "    batch_corr : int = (predicted == y_train).sum()\n",
        "    train_corr += batch_corr\n",
        "\n",
        "    optimizer.zero_grad()\n",
        "    loss.backward()\n",
        "    optimizer.step()\n",
        "\n",
        "    if (b + 1) % 100 == 0:\n",
        "      print(f\"Epoch : {i}, Batch : {b + 1}, Loss : {loss.item()}\")\n",
        "\n",
        "  train_losses.append(loss)\n",
        "  train_correct.append(train_corr)\n",
        "\n",
        "  with torch.no_grad():\n",
        "    for b, (X_test, y_test) in enumerate(test_loader):\n",
        "      y_val = model.feedForward(X_test)\n",
        "      predicted = torch.max(y_val.data, 1)[1]\n",
        "      test_corr += (predicted == y_test).sum()\n",
        "\n",
        "  loss = criterion(y_val, y_test)\n",
        "  test_losses.append(loss)\n",
        "  test_correct.append(test_corr)\n",
        "\n",
        "  i += 1\n",
        "\n",
        "current_time = time.time()\n",
        "print(f\"Time taken to train the model : {current_time - start_time}\")"
      ],
      "metadata": {
        "colab": {
          "base_uri": "https://localhost:8080/"
        },
        "id": "VrpGhkLeVOVc",
        "outputId": "0a466648-d611-4a2a-d699-6b622138bac7"
      },
      "execution_count": 35,
      "outputs": [
        {
          "output_type": "stream",
          "name": "stdout",
          "text": [
            "Epoch : 1, Batch : 100, Loss : 1.190028429031372\n",
            "Epoch : 1, Batch : 200, Loss : 1.2111515998840332\n",
            "Epoch : 1, Batch : 300, Loss : 1.1931861639022827\n",
            "Epoch : 1, Batch : 400, Loss : 0.7018818855285645\n",
            "Epoch : 1, Batch : 500, Loss : 0.5468412637710571\n",
            "Epoch : 1, Batch : 600, Loss : 0.7733075022697449\n",
            "Epoch : 1, Batch : 700, Loss : 0.46719661355018616\n",
            "Epoch : 1, Batch : 800, Loss : 0.7298765182495117\n",
            "Epoch : 1, Batch : 900, Loss : 0.7305834293365479\n",
            "Epoch : 1, Batch : 1000, Loss : 0.9990125894546509\n",
            "Epoch : 1, Batch : 1100, Loss : 0.3111301064491272\n",
            "Epoch : 1, Batch : 1200, Loss : 0.7091071009635925\n",
            "Epoch : 1, Batch : 1300, Loss : 0.474865198135376\n",
            "Epoch : 1, Batch : 1400, Loss : 0.43359747529029846\n",
            "Epoch : 1, Batch : 1500, Loss : 1.263570785522461\n",
            "Epoch : 1, Batch : 1600, Loss : 0.9576774835586548\n",
            "Epoch : 1, Batch : 1700, Loss : 0.7074729204177856\n",
            "Epoch : 1, Batch : 1800, Loss : 0.34448719024658203\n",
            "Epoch : 1, Batch : 1900, Loss : 0.48812389373779297\n",
            "Epoch : 1, Batch : 2000, Loss : 0.5877823829650879\n",
            "Epoch : 1, Batch : 2100, Loss : 0.5961111783981323\n",
            "Epoch : 1, Batch : 2200, Loss : 0.3566255569458008\n",
            "Epoch : 1, Batch : 2300, Loss : 0.42739319801330566\n",
            "Epoch : 1, Batch : 2400, Loss : 0.24484658241271973\n",
            "Epoch : 1, Batch : 2500, Loss : 0.5859187841415405\n",
            "Epoch : 1, Batch : 2600, Loss : 0.6609405279159546\n",
            "Epoch : 1, Batch : 2700, Loss : 0.6443613171577454\n",
            "Epoch : 1, Batch : 2800, Loss : 0.6358196139335632\n",
            "Epoch : 1, Batch : 2900, Loss : 0.3762907087802887\n",
            "Epoch : 1, Batch : 3000, Loss : 0.4458543360233307\n",
            "Epoch : 1, Batch : 3100, Loss : 0.23950371146202087\n",
            "Epoch : 1, Batch : 3200, Loss : 0.25916120409965515\n",
            "Epoch : 1, Batch : 3300, Loss : 0.40255993604660034\n",
            "Epoch : 1, Batch : 3400, Loss : 0.263205349445343\n",
            "Epoch : 1, Batch : 3500, Loss : 0.2487877905368805\n",
            "Epoch : 1, Batch : 3600, Loss : 0.5353934168815613\n",
            "Epoch : 1, Batch : 3700, Loss : 1.023598313331604\n",
            "Epoch : 1, Batch : 3800, Loss : 0.25015777349472046\n",
            "Epoch : 1, Batch : 3900, Loss : 0.5456981062889099\n",
            "Epoch : 1, Batch : 4000, Loss : 0.7597761750221252\n",
            "Epoch : 1, Batch : 4100, Loss : 0.4816233515739441\n",
            "Epoch : 1, Batch : 4200, Loss : 0.5181846022605896\n",
            "Epoch : 1, Batch : 4300, Loss : 0.4613909125328064\n",
            "Epoch : 1, Batch : 4400, Loss : 0.3149870038032532\n",
            "Epoch : 1, Batch : 4500, Loss : 0.29638686776161194\n",
            "Epoch : 1, Batch : 4600, Loss : 0.6377763152122498\n",
            "Epoch : 1, Batch : 4700, Loss : 0.4561212956905365\n",
            "Epoch : 1, Batch : 4800, Loss : 0.28047093749046326\n",
            "Epoch : 1, Batch : 4900, Loss : 0.4176194667816162\n",
            "Epoch : 1, Batch : 5000, Loss : 0.8723112940788269\n",
            "Epoch : 1, Batch : 5100, Loss : 0.514250636100769\n",
            "Epoch : 1, Batch : 5200, Loss : 0.3954760432243347\n",
            "Epoch : 1, Batch : 5300, Loss : 0.1714777797460556\n",
            "Epoch : 1, Batch : 5400, Loss : 0.5051174759864807\n",
            "Epoch : 1, Batch : 5500, Loss : 0.5461760759353638\n",
            "Epoch : 1, Batch : 5600, Loss : 1.1172246932983398\n",
            "Epoch : 1, Batch : 5700, Loss : 0.27989596128463745\n",
            "Epoch : 1, Batch : 5800, Loss : 0.568802535533905\n",
            "Epoch : 1, Batch : 5900, Loss : 0.1286660134792328\n",
            "Epoch : 1, Batch : 6000, Loss : 0.37224218249320984\n",
            "Epoch : 2, Batch : 100, Loss : 0.5254915952682495\n",
            "Epoch : 2, Batch : 200, Loss : 0.16523608565330505\n",
            "Epoch : 2, Batch : 300, Loss : 0.3353820741176605\n",
            "Epoch : 2, Batch : 400, Loss : 0.5219475626945496\n",
            "Epoch : 2, Batch : 500, Loss : 0.5271323919296265\n",
            "Epoch : 2, Batch : 600, Loss : 0.47771915793418884\n",
            "Epoch : 2, Batch : 700, Loss : 0.27647432684898376\n",
            "Epoch : 2, Batch : 800, Loss : 0.38318073749542236\n",
            "Epoch : 2, Batch : 900, Loss : 0.5462700128555298\n",
            "Epoch : 2, Batch : 1000, Loss : 0.5091472864151001\n",
            "Epoch : 2, Batch : 1100, Loss : 0.7318522930145264\n",
            "Epoch : 2, Batch : 1200, Loss : 0.2841874957084656\n",
            "Epoch : 2, Batch : 1300, Loss : 0.4317891001701355\n",
            "Epoch : 2, Batch : 1400, Loss : 0.29176515340805054\n",
            "Epoch : 2, Batch : 1500, Loss : 0.32441246509552\n",
            "Epoch : 2, Batch : 1600, Loss : 0.48829489946365356\n",
            "Epoch : 2, Batch : 1700, Loss : 0.39435499906539917\n",
            "Epoch : 2, Batch : 1800, Loss : 0.8770767450332642\n",
            "Epoch : 2, Batch : 1900, Loss : 0.5719342827796936\n",
            "Epoch : 2, Batch : 2000, Loss : 0.5796735286712646\n",
            "Epoch : 2, Batch : 2100, Loss : 0.28369706869125366\n",
            "Epoch : 2, Batch : 2200, Loss : 0.6461215019226074\n",
            "Epoch : 2, Batch : 2300, Loss : 0.0935765951871872\n",
            "Epoch : 2, Batch : 2400, Loss : 0.1770598590373993\n",
            "Epoch : 2, Batch : 2500, Loss : 0.346280038356781\n",
            "Epoch : 2, Batch : 2600, Loss : 0.6323792338371277\n",
            "Epoch : 2, Batch : 2700, Loss : 0.23141875863075256\n",
            "Epoch : 2, Batch : 2800, Loss : 0.14380337297916412\n",
            "Epoch : 2, Batch : 2900, Loss : 0.10681065171957016\n",
            "Epoch : 2, Batch : 3000, Loss : 0.20383206009864807\n",
            "Epoch : 2, Batch : 3100, Loss : 0.36137261986732483\n",
            "Epoch : 2, Batch : 3200, Loss : 0.20188069343566895\n",
            "Epoch : 2, Batch : 3300, Loss : 0.29077646136283875\n",
            "Epoch : 2, Batch : 3400, Loss : 1.207744836807251\n",
            "Epoch : 2, Batch : 3500, Loss : 0.3963719308376312\n",
            "Epoch : 2, Batch : 3600, Loss : 0.6182569265365601\n",
            "Epoch : 2, Batch : 3700, Loss : 0.23833581805229187\n",
            "Epoch : 2, Batch : 3800, Loss : 0.05596940964460373\n",
            "Epoch : 2, Batch : 3900, Loss : 0.43789511919021606\n",
            "Epoch : 2, Batch : 4000, Loss : 0.30824729800224304\n",
            "Epoch : 2, Batch : 4100, Loss : 0.5517339706420898\n",
            "Epoch : 2, Batch : 4200, Loss : 0.6460718512535095\n",
            "Epoch : 2, Batch : 4300, Loss : 0.407710462808609\n",
            "Epoch : 2, Batch : 4400, Loss : 0.20243844389915466\n",
            "Epoch : 2, Batch : 4500, Loss : 0.08138648420572281\n",
            "Epoch : 2, Batch : 4600, Loss : 0.49727606773376465\n",
            "Epoch : 2, Batch : 4700, Loss : 0.24045062065124512\n",
            "Epoch : 2, Batch : 4800, Loss : 0.4526444971561432\n",
            "Epoch : 2, Batch : 4900, Loss : 1.1397478580474854\n",
            "Epoch : 2, Batch : 5000, Loss : 0.14531691372394562\n",
            "Epoch : 2, Batch : 5100, Loss : 0.19249267876148224\n",
            "Epoch : 2, Batch : 5200, Loss : 0.25355011224746704\n",
            "Epoch : 2, Batch : 5300, Loss : 0.1378677785396576\n",
            "Epoch : 2, Batch : 5400, Loss : 0.09644433856010437\n",
            "Epoch : 2, Batch : 5500, Loss : 0.3965361714363098\n",
            "Epoch : 2, Batch : 5600, Loss : 0.08677544444799423\n",
            "Epoch : 2, Batch : 5700, Loss : 0.23060289025306702\n",
            "Epoch : 2, Batch : 5800, Loss : 0.08867649734020233\n",
            "Epoch : 2, Batch : 5900, Loss : 0.15536817908287048\n",
            "Epoch : 2, Batch : 6000, Loss : 0.17371465265750885\n",
            "Epoch : 3, Batch : 100, Loss : 0.12120573222637177\n",
            "Epoch : 3, Batch : 200, Loss : 0.19535192847251892\n",
            "Epoch : 3, Batch : 300, Loss : 0.41818562150001526\n",
            "Epoch : 3, Batch : 400, Loss : 0.0388210266828537\n",
            "Epoch : 3, Batch : 500, Loss : 0.37485113739967346\n",
            "Epoch : 3, Batch : 600, Loss : 0.05121691897511482\n",
            "Epoch : 3, Batch : 700, Loss : 0.22562317550182343\n",
            "Epoch : 3, Batch : 800, Loss : 0.4574364721775055\n",
            "Epoch : 3, Batch : 900, Loss : 0.10277770459651947\n",
            "Epoch : 3, Batch : 1000, Loss : 1.0378153324127197\n",
            "Epoch : 3, Batch : 1100, Loss : 0.9878267049789429\n",
            "Epoch : 3, Batch : 1200, Loss : 0.42215695977211\n",
            "Epoch : 3, Batch : 1300, Loss : 0.2782638669013977\n",
            "Epoch : 3, Batch : 1400, Loss : 0.46671706438064575\n",
            "Epoch : 3, Batch : 1500, Loss : 0.33752214908599854\n",
            "Epoch : 3, Batch : 1600, Loss : 0.08411199599504471\n",
            "Epoch : 3, Batch : 1700, Loss : 0.3392084240913391\n",
            "Epoch : 3, Batch : 1800, Loss : 0.28009647130966187\n",
            "Epoch : 3, Batch : 1900, Loss : 0.16988177597522736\n",
            "Epoch : 3, Batch : 2000, Loss : 0.4980824887752533\n",
            "Epoch : 3, Batch : 2100, Loss : 0.3305579125881195\n",
            "Epoch : 3, Batch : 2200, Loss : 0.20215007662773132\n",
            "Epoch : 3, Batch : 2300, Loss : 0.48140841722488403\n",
            "Epoch : 3, Batch : 2400, Loss : 0.16444998979568481\n",
            "Epoch : 3, Batch : 2500, Loss : 0.1519297957420349\n",
            "Epoch : 3, Batch : 2600, Loss : 0.1288863718509674\n",
            "Epoch : 3, Batch : 2700, Loss : 0.1605950891971588\n",
            "Epoch : 3, Batch : 2800, Loss : 0.2228977233171463\n",
            "Epoch : 3, Batch : 2900, Loss : 0.46790385246276855\n",
            "Epoch : 3, Batch : 3000, Loss : 0.4773500859737396\n",
            "Epoch : 3, Batch : 3100, Loss : 0.04569016396999359\n",
            "Epoch : 3, Batch : 3200, Loss : 0.18395330011844635\n",
            "Epoch : 3, Batch : 3300, Loss : 0.5370644330978394\n",
            "Epoch : 3, Batch : 3400, Loss : 0.22269520163536072\n",
            "Epoch : 3, Batch : 3500, Loss : 0.08140753209590912\n",
            "Epoch : 3, Batch : 3600, Loss : 0.27970653772354126\n",
            "Epoch : 3, Batch : 3700, Loss : 0.2085636556148529\n",
            "Epoch : 3, Batch : 3800, Loss : 0.03933051973581314\n",
            "Epoch : 3, Batch : 3900, Loss : 0.8457460403442383\n",
            "Epoch : 3, Batch : 4000, Loss : 0.04415294528007507\n",
            "Epoch : 3, Batch : 4100, Loss : 0.6453231573104858\n",
            "Epoch : 3, Batch : 4200, Loss : 0.3521687388420105\n",
            "Epoch : 3, Batch : 4300, Loss : 0.41360917687416077\n",
            "Epoch : 3, Batch : 4400, Loss : 0.8292441368103027\n",
            "Epoch : 3, Batch : 4500, Loss : 0.2250586301088333\n",
            "Epoch : 3, Batch : 4600, Loss : 0.4150075912475586\n",
            "Epoch : 3, Batch : 4700, Loss : 0.03637351468205452\n",
            "Epoch : 3, Batch : 4800, Loss : 0.34494271874427795\n",
            "Epoch : 3, Batch : 4900, Loss : 0.32439374923706055\n",
            "Epoch : 3, Batch : 5000, Loss : 0.8304130434989929\n",
            "Epoch : 3, Batch : 5100, Loss : 0.11707209050655365\n",
            "Epoch : 3, Batch : 5200, Loss : 0.43268004059791565\n",
            "Epoch : 3, Batch : 5300, Loss : 0.29885464906692505\n",
            "Epoch : 3, Batch : 5400, Loss : 0.4458925127983093\n",
            "Epoch : 3, Batch : 5500, Loss : 0.8997292518615723\n",
            "Epoch : 3, Batch : 5600, Loss : 0.4470657408237457\n",
            "Epoch : 3, Batch : 5700, Loss : 0.2174123227596283\n",
            "Epoch : 3, Batch : 5800, Loss : 0.4356434941291809\n",
            "Epoch : 3, Batch : 5900, Loss : 0.7829299569129944\n",
            "Epoch : 3, Batch : 6000, Loss : 0.23174813389778137\n",
            "Epoch : 4, Batch : 100, Loss : 0.0964372307062149\n",
            "Epoch : 4, Batch : 200, Loss : 0.7939813733100891\n",
            "Epoch : 4, Batch : 300, Loss : 0.43346700072288513\n",
            "Epoch : 4, Batch : 400, Loss : 0.36486226320266724\n",
            "Epoch : 4, Batch : 500, Loss : 0.3487086296081543\n",
            "Epoch : 4, Batch : 600, Loss : 0.028646716848015785\n",
            "Epoch : 4, Batch : 700, Loss : 0.04491810128092766\n",
            "Epoch : 4, Batch : 800, Loss : 0.2985541820526123\n",
            "Epoch : 4, Batch : 900, Loss : 0.12194694578647614\n",
            "Epoch : 4, Batch : 1000, Loss : 0.6193040013313293\n",
            "Epoch : 4, Batch : 1100, Loss : 0.051274050027132034\n",
            "Epoch : 4, Batch : 1200, Loss : 0.13614675402641296\n",
            "Epoch : 4, Batch : 1300, Loss : 0.1779598593711853\n",
            "Epoch : 4, Batch : 1400, Loss : 0.12172703444957733\n",
            "Epoch : 4, Batch : 1500, Loss : 0.7306622862815857\n",
            "Epoch : 4, Batch : 1600, Loss : 0.27698811888694763\n",
            "Epoch : 4, Batch : 1700, Loss : 0.4301910400390625\n",
            "Epoch : 4, Batch : 1800, Loss : 0.44320225715637207\n",
            "Epoch : 4, Batch : 1900, Loss : 0.5365766286849976\n",
            "Epoch : 4, Batch : 2000, Loss : 0.8291794061660767\n",
            "Epoch : 4, Batch : 2100, Loss : 0.07178827375173569\n",
            "Epoch : 4, Batch : 2200, Loss : 0.2318417727947235\n",
            "Epoch : 4, Batch : 2300, Loss : 0.40483346581459045\n",
            "Epoch : 4, Batch : 2400, Loss : 0.2831563651561737\n",
            "Epoch : 4, Batch : 2500, Loss : 0.07369669526815414\n",
            "Epoch : 4, Batch : 2600, Loss : 0.4068472385406494\n",
            "Epoch : 4, Batch : 2700, Loss : 0.581392765045166\n",
            "Epoch : 4, Batch : 2800, Loss : 0.500761866569519\n",
            "Epoch : 4, Batch : 2900, Loss : 0.6188759207725525\n",
            "Epoch : 4, Batch : 3000, Loss : 0.7287900447845459\n",
            "Epoch : 4, Batch : 3100, Loss : 0.6085814833641052\n",
            "Epoch : 4, Batch : 3200, Loss : 0.26348865032196045\n",
            "Epoch : 4, Batch : 3300, Loss : 0.3403671383857727\n",
            "Epoch : 4, Batch : 3400, Loss : 0.6490401029586792\n",
            "Epoch : 4, Batch : 3500, Loss : 0.3152206838130951\n",
            "Epoch : 4, Batch : 3600, Loss : 0.012964976951479912\n",
            "Epoch : 4, Batch : 3700, Loss : 0.6062319874763489\n",
            "Epoch : 4, Batch : 3800, Loss : 0.637654185295105\n",
            "Epoch : 4, Batch : 3900, Loss : 0.05201759934425354\n",
            "Epoch : 4, Batch : 4000, Loss : 0.15875832736492157\n",
            "Epoch : 4, Batch : 4100, Loss : 0.4959813952445984\n",
            "Epoch : 4, Batch : 4200, Loss : 0.1353369802236557\n",
            "Epoch : 4, Batch : 4300, Loss : 0.25608864426612854\n",
            "Epoch : 4, Batch : 4400, Loss : 0.055410176515579224\n",
            "Epoch : 4, Batch : 4500, Loss : 0.20474550127983093\n",
            "Epoch : 4, Batch : 4600, Loss : 0.0508916974067688\n",
            "Epoch : 4, Batch : 4700, Loss : 0.0061571234837174416\n",
            "Epoch : 4, Batch : 4800, Loss : 0.7924859523773193\n",
            "Epoch : 4, Batch : 4900, Loss : 0.5367252230644226\n",
            "Epoch : 4, Batch : 5000, Loss : 0.2276301085948944\n",
            "Epoch : 4, Batch : 5100, Loss : 0.15816274285316467\n",
            "Epoch : 4, Batch : 5200, Loss : 0.0658196210861206\n",
            "Epoch : 4, Batch : 5300, Loss : 0.2526710629463196\n",
            "Epoch : 4, Batch : 5400, Loss : 0.6636959910392761\n",
            "Epoch : 4, Batch : 5500, Loss : 0.08661378920078278\n",
            "Epoch : 4, Batch : 5600, Loss : 0.28894782066345215\n",
            "Epoch : 4, Batch : 5700, Loss : 0.7984108328819275\n",
            "Epoch : 4, Batch : 5800, Loss : 0.2660287022590637\n",
            "Epoch : 4, Batch : 5900, Loss : 0.10813157260417938\n",
            "Epoch : 4, Batch : 6000, Loss : 0.5084858536720276\n",
            "Epoch : 5, Batch : 100, Loss : 0.5104368925094604\n",
            "Epoch : 5, Batch : 200, Loss : 0.1924828290939331\n",
            "Epoch : 5, Batch : 300, Loss : 0.342568576335907\n",
            "Epoch : 5, Batch : 400, Loss : 0.1449803113937378\n",
            "Epoch : 5, Batch : 500, Loss : 0.22957006096839905\n",
            "Epoch : 5, Batch : 600, Loss : 0.1201213151216507\n",
            "Epoch : 5, Batch : 700, Loss : 0.29174840450286865\n",
            "Epoch : 5, Batch : 800, Loss : 0.38163381814956665\n",
            "Epoch : 5, Batch : 900, Loss : 0.47179874777793884\n",
            "Epoch : 5, Batch : 1000, Loss : 0.3357659876346588\n",
            "Epoch : 5, Batch : 1100, Loss : 0.321634441614151\n",
            "Epoch : 5, Batch : 1200, Loss : 0.7647135257720947\n",
            "Epoch : 5, Batch : 1300, Loss : 0.042376965284347534\n",
            "Epoch : 5, Batch : 1400, Loss : 0.17476816475391388\n",
            "Epoch : 5, Batch : 1500, Loss : 0.8980743288993835\n",
            "Epoch : 5, Batch : 1600, Loss : 0.27789533138275146\n",
            "Epoch : 5, Batch : 1700, Loss : 0.2743169963359833\n",
            "Epoch : 5, Batch : 1800, Loss : 0.19329732656478882\n",
            "Epoch : 5, Batch : 1900, Loss : 0.07114876061677933\n",
            "Epoch : 5, Batch : 2000, Loss : 0.18723520636558533\n",
            "Epoch : 5, Batch : 2100, Loss : 0.158090278506279\n",
            "Epoch : 5, Batch : 2200, Loss : 0.7983794808387756\n",
            "Epoch : 5, Batch : 2300, Loss : 0.22875216603279114\n",
            "Epoch : 5, Batch : 2400, Loss : 0.04070466384291649\n",
            "Epoch : 5, Batch : 2500, Loss : 0.3897051215171814\n",
            "Epoch : 5, Batch : 2600, Loss : 1.194724440574646\n",
            "Epoch : 5, Batch : 2700, Loss : 0.42770838737487793\n",
            "Epoch : 5, Batch : 2800, Loss : 0.11700142920017242\n",
            "Epoch : 5, Batch : 2900, Loss : 0.4211207330226898\n",
            "Epoch : 5, Batch : 3000, Loss : 0.22757406532764435\n",
            "Epoch : 5, Batch : 3100, Loss : 0.11269273608922958\n",
            "Epoch : 5, Batch : 3200, Loss : 0.28791168332099915\n",
            "Epoch : 5, Batch : 3300, Loss : 0.2436400204896927\n",
            "Epoch : 5, Batch : 3400, Loss : 0.2973821759223938\n",
            "Epoch : 5, Batch : 3500, Loss : 0.4807542860507965\n",
            "Epoch : 5, Batch : 3600, Loss : 0.0362890250980854\n",
            "Epoch : 5, Batch : 3700, Loss : 0.21435709297657013\n",
            "Epoch : 5, Batch : 3800, Loss : 0.4503351151943207\n",
            "Epoch : 5, Batch : 3900, Loss : 0.06997855007648468\n",
            "Epoch : 5, Batch : 4000, Loss : 0.17707698047161102\n",
            "Epoch : 5, Batch : 4100, Loss : 0.07039956748485565\n",
            "Epoch : 5, Batch : 4200, Loss : 0.5557317733764648\n",
            "Epoch : 5, Batch : 4300, Loss : 0.3221004605293274\n",
            "Epoch : 5, Batch : 4400, Loss : 0.029244352132081985\n",
            "Epoch : 5, Batch : 4500, Loss : 0.37447589635849\n",
            "Epoch : 5, Batch : 4600, Loss : 0.18825046718120575\n",
            "Epoch : 5, Batch : 4700, Loss : 0.414431631565094\n",
            "Epoch : 5, Batch : 4800, Loss : 0.7059135437011719\n",
            "Epoch : 5, Batch : 4900, Loss : 0.397286593914032\n",
            "Epoch : 5, Batch : 5000, Loss : 0.34933292865753174\n",
            "Epoch : 5, Batch : 5100, Loss : 0.25004786252975464\n",
            "Epoch : 5, Batch : 5200, Loss : 0.014289161190390587\n",
            "Epoch : 5, Batch : 5300, Loss : 0.08437640964984894\n",
            "Epoch : 5, Batch : 5400, Loss : 0.08393105864524841\n",
            "Epoch : 5, Batch : 5500, Loss : 0.11059296131134033\n",
            "Epoch : 5, Batch : 5600, Loss : 0.10895153135061264\n",
            "Epoch : 5, Batch : 5700, Loss : 0.02544761821627617\n",
            "Epoch : 5, Batch : 5800, Loss : 0.19114257395267487\n",
            "Epoch : 5, Batch : 5900, Loss : 0.005795096978545189\n",
            "Epoch : 5, Batch : 6000, Loss : 0.3175452649593353\n",
            "Time taken to train the model : 201.74889492988586\n"
          ]
        }
      ]
    },
    {
      "cell_type": "markdown",
      "source": [
        "##**Plotting the results**"
      ],
      "metadata": {
        "id": "o1fk5q_sf0kV"
      }
    },
    {
      "cell_type": "code",
      "source": [
        "# plotting the results\n",
        "train_losses = [tl.item() for tl in train_losses]\n",
        "\n",
        "plt.plot(train_losses, label = \"Training loss\")\n",
        "plt.plot(test_losses, label = \"Validation loss\")\n",
        "plt.title(\"Loss at Epoch\")\n",
        "plt.legend()"
      ],
      "metadata": {
        "colab": {
          "base_uri": "https://localhost:8080/",
          "height": 469
        },
        "id": "YLuteTR7Ywzo",
        "outputId": "c014a228-9d2f-4114-a28c-9556acf49799"
      },
      "execution_count": 36,
      "outputs": [
        {
          "output_type": "execute_result",
          "data": {
            "text/plain": [
              "<matplotlib.legend.Legend at 0x79afe6e47d30>"
            ]
          },
          "metadata": {},
          "execution_count": 36
        },
        {
          "output_type": "display_data",
          "data": {
            "text/plain": [
              "<Figure size 640x480 with 1 Axes>"
            ],
            "image/png": "[encoded data removed]"
          },
          "metadata": {}
        }
      ]
    },
    {
      "cell_type": "code",
      "source": [
        "plt.plot([t / 600 for t in train_correct], label = \"Training Accuracy\")\n",
        "plt.plot([t / 100 for t in test_correct], label = \"Validation Accuracy\")\n",
        "plt.title(\"Accuracy at the end of each epoch\")\n",
        "plt.legend()"
      ],
      "metadata": {
        "colab": {
          "base_uri": "https://localhost:8080/",
          "height": 469
        },
        "id": "P7163WCzY-T-",
        "outputId": "f3b23f00-5827-42ad-9e40-6c5386358c26"
      },
      "execution_count": 37,
      "outputs": [
        {
          "output_type": "execute_result",
          "data": {
            "text/plain": [
              "<matplotlib.legend.Legend at 0x79afe6f6df90>"
            ]
          },
          "metadata": {},
          "execution_count": 37
        },
        {
          "output_type": "display_data",
          "data": {
            "text/plain": [
              "<Figure size 640x480 with 1 Axes>"
            ],
            "image/png": "[encoded data removed]"
          },
          "metadata": {}
        }
      ]
    },
    {
      "cell_type": "markdown",
      "source": [
        "##**Finding the Accuracy!**"
      ],
      "metadata": {
        "id": "FtEoBltrf9oX"
      }
    },
    {
      "cell_type": "code",
      "source": [
        "with torch.no_grad():\n",
        "  correct = 0\n",
        "  for X_test, y_test in DataLoader(test_data, batch_size = 10000, shuffle = False):\n",
        "    y_pred = model.feedForward(X_test)\n",
        "    predicted = torch.max(y_pred, 1)[1]\n",
        "    correct += (predicted == y_test).sum()"
      ],
      "metadata": {
        "id": "Ij77LATBZFWE"
      },
      "execution_count": 38,
      "outputs": []
    },
    {
      "cell_type": "code",
      "source": [
        "# Accuracy\n",
        "print(f\"Accuracy : {correct.item() / len(test_data) * 100}%\")"
      ],
      "metadata": {
        "colab": {
          "base_uri": "https://localhost:8080/"
        },
        "id": "WebItO3YZKgG",
        "outputId": "026a3793-d588-4a24-df7d-cb7416dd3243"
      },
      "execution_count": 39,
      "outputs": [
        {
          "output_type": "stream",
          "name": "stdout",
          "text": [
            "Accuracy : 88.94999999999999%\n"
          ]
        }
      ]
    },
    {
      "cell_type": "markdown",
      "source": [
        "##**Testing using an image**"
      ],
      "metadata": {
        "id": "je4ilawzgEXy"
      }
    },
    {
      "cell_type": "code",
      "source": [
        "labels : dict = {\"0\" : \"T-shirt/top\",\n",
        "                 \"1\" :\t\"Trouser\",\n",
        "                 \"2\" : \"Pullover\",\n",
        "                 \"3\" : \"Dress\",\n",
        "                 \"4\" : \"Coat\",\n",
        "                 \"5\" : \"Sandal\",\n",
        "                 \"6\" :\t\"Shirt\",\n",
        "                 \"7\" : \"Sneaker\",\n",
        "                 \"8\" :\t\"Bag\",\n",
        "                 \"9\" : \"Ankle boot\"\n",
        "                 }"
      ],
      "metadata": {
        "id": "Y1xmkoh9bAlA"
      },
      "execution_count": 50,
      "outputs": []
    },
    {
      "cell_type": "code",
      "source": [
        "test_data_num : int = 2023"
      ],
      "metadata": {
        "id": "zyLpSKaMdT3w"
      },
      "execution_count": 76,
      "outputs": []
    },
    {
      "cell_type": "code",
      "source": [
        "plt.imshow(test_data[test_data_num][0].reshape(28,28))"
      ],
      "metadata": {
        "colab": {
          "base_uri": "https://localhost:8080/",
          "height": 447
        },
        "id": "9Ik-D0UBZ55a",
        "outputId": "5fc305ea-c4a1-4355-f649-fca4e9f5f0ab"
      },
      "execution_count": 77,
      "outputs": [
        {
          "output_type": "execute_result",
          "data": {
            "text/plain": [
              "<matplotlib.image.AxesImage at 0x79afe2665ff0>"
            ]
          },
          "metadata": {},
          "execution_count": 77
        },
        {
          "output_type": "display_data",
          "data": {
            "text/plain": [
              "<Figure size 640x480 with 1 Axes>"
            ],
            "image/png": "[encoded data removed]"
          },
          "metadata": {}
        }
      ]
    },
    {
      "cell_type": "code",
      "source": [
        "model.eval()\n",
        "with torch.no_grad():\n",
        "  prediction = model.feedForward(test_data[test_data_num][0].view(1, 1, 28, 28))\n",
        "\n",
        "print(f\"Prediction : {labels[str(prediction.argmax().item())]}\")"
      ],
      "metadata": {
        "colab": {
          "base_uri": "https://localhost:8080/"
        },
        "id": "kPfe_2KJaF7G",
        "outputId": "1ab9e47a-1d7c-4ece-b212-7f863c9a8eb4"
      },
      "execution_count": 78,
      "outputs": [
        {
          "output_type": "stream",
          "name": "stdout",
          "text": [
            "Prediction : Trouser\n"
          ]
        }
      ]
    },
    {
      "cell_type": "markdown",
      "source": [
        "##**Saving the model**"
      ],
      "metadata": {
        "id": "TxMK5l6IgJlE"
      }
    },
    {
      "cell_type": "code",
      "source": [
        "torch.save(model.state_dict(), \"FashionMNIST_CNN_Model.pt\")"
      ],
      "metadata": {
        "id": "trV3twJ7eXdN"
      },
      "execution_count": 80,
      "outputs": []
    }
  ]
}